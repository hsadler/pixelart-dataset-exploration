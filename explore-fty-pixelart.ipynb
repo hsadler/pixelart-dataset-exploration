{
 "cells": [
  {
   "cell_type": "code",
   "execution_count": 10,
   "metadata": {},
   "outputs": [],
   "source": [
    "from datasets import load_dataset\n",
    "import pandas as pd\n",
    "\n",
    "# https://huggingface.co/datasets/bghira/free-to-use-pixelart\n",
    "ds = load_dataset(\"bghira/free-to-use-pixelart\")"
   ]
  },
  {
   "cell_type": "code",
   "execution_count": 11,
   "metadata": {},
   "outputs": [
    {
     "data": {
      "text/html": [
       "<div>\n",
       "<style scoped>\n",
       "    .dataframe tbody tr th:only-of-type {\n",
       "        vertical-align: middle;\n",
       "    }\n",
       "\n",
       "    .dataframe tbody tr th {\n",
       "        vertical-align: top;\n",
       "    }\n",
       "\n",
       "    .dataframe thead th {\n",
       "        text-align: right;\n",
       "    }\n",
       "</style>\n",
       "<table border=\"1\" class=\"dataframe\">\n",
       "  <thead>\n",
       "    <tr style=\"text-align: right;\">\n",
       "      <th></th>\n",
       "      <th>subset</th>\n",
       "      <th>sequence</th>\n",
       "      <th>subset-sequence-element</th>\n",
       "      <th>title</th>\n",
       "      <th>description</th>\n",
       "      <th>views</th>\n",
       "      <th>filename</th>\n",
       "      <th>pixel_size</th>\n",
       "      <th>has_watermark</th>\n",
       "      <th>image_hash</th>\n",
       "      <th>image_url</th>\n",
       "      <th>full_image_url</th>\n",
       "      <th>likes_count</th>\n",
       "      <th>comments_count</th>\n",
       "      <th>width</th>\n",
       "      <th>height</th>\n",
       "      <th>date_created</th>\n",
       "      <th>content_warning</th>\n",
       "      <th>warning</th>\n",
       "      <th>liked</th>\n",
       "    </tr>\n",
       "  </thead>\n",
       "  <tbody>\n",
       "    <tr>\n",
       "      <th>0</th>\n",
       "      <td>highlighted</td>\n",
       "      <td>1</td>\n",
       "      <td>highlighted.1.1</td>\n",
       "      <td>Highlander</td>\n",
       "      <td></td>\n",
       "      <td>36</td>\n",
       "      <td>sr2e3cecf2e99aws3-1 Highlander.png</td>\n",
       "      <td>6</td>\n",
       "      <td>False</td>\n",
       "      <td>sr2e3cecf2e99aws3</td>\n",
       "      <td>https://art.pixilart.com/thumb/sr2e3cecf2e99aw...</td>\n",
       "      <td>https://art.pixilart.com/sr2e3cecf2e99aws3.png</td>\n",
       "      <td>9</td>\n",
       "      <td>0</td>\n",
       "      <td>200</td>\n",
       "      <td>250</td>\n",
       "      <td>05/25/2024</td>\n",
       "      <td>None</td>\n",
       "      <td>False</td>\n",
       "      <td>False</td>\n",
       "    </tr>\n",
       "    <tr>\n",
       "      <th>1</th>\n",
       "      <td>highlighted</td>\n",
       "      <td>1</td>\n",
       "      <td>highlighted.1.2</td>\n",
       "      <td>Dungeon Key</td>\n",
       "      <td>#challenge</td>\n",
       "      <td>166</td>\n",
       "      <td>sr26fa2adb2a6aws3-2 Dungeon Key.png</td>\n",
       "      <td>14</td>\n",
       "      <td>False</td>\n",
       "      <td>sr26fa2adb2a6aws3</td>\n",
       "      <td>https://art.pixilart.com/thumb/sr26fa2adb2a6aw...</td>\n",
       "      <td>https://art.pixilart.com/sr26fa2adb2a6aws3.gif</td>\n",
       "      <td>49</td>\n",
       "      <td>2</td>\n",
       "      <td>54</td>\n",
       "      <td>100</td>\n",
       "      <td>05/25/2024</td>\n",
       "      <td>None</td>\n",
       "      <td>False</td>\n",
       "      <td>False</td>\n",
       "    </tr>\n",
       "    <tr>\n",
       "      <th>2</th>\n",
       "      <td>highlighted</td>\n",
       "      <td>1</td>\n",
       "      <td>highlighted.1.3</td>\n",
       "      <td>Mecha1old</td>\n",
       "      <td>Old mecha i did back in 2022</td>\n",
       "      <td>117</td>\n",
       "      <td>sr20b7ff421b0aws3-3 Mecha1old.png</td>\n",
       "      <td>11</td>\n",
       "      <td>False</td>\n",
       "      <td>sr20b7ff421b0aws3</td>\n",
       "      <td>https://art.pixilart.com/thumb/sr20b7ff421b0aw...</td>\n",
       "      <td>https://art.pixilart.com/sr20b7ff421b0aws3.gif</td>\n",
       "      <td>39</td>\n",
       "      <td>0</td>\n",
       "      <td>128</td>\n",
       "      <td>128</td>\n",
       "      <td>05/25/2024</td>\n",
       "      <td>None</td>\n",
       "      <td>False</td>\n",
       "      <td>False</td>\n",
       "    </tr>\n",
       "  </tbody>\n",
       "</table>\n",
       "</div>"
      ],
      "text/plain": [
       "        subset sequence subset-sequence-element        title  \\\n",
       "0  highlighted        1         highlighted.1.1   Highlander   \n",
       "1  highlighted        1         highlighted.1.2  Dungeon Key   \n",
       "2  highlighted        1         highlighted.1.3    Mecha1old   \n",
       "\n",
       "                    description  views                             filename  \\\n",
       "0                                   36   sr2e3cecf2e99aws3-1 Highlander.png   \n",
       "1                    #challenge    166  sr26fa2adb2a6aws3-2 Dungeon Key.png   \n",
       "2  Old mecha i did back in 2022    117    sr20b7ff421b0aws3-3 Mecha1old.png   \n",
       "\n",
       "   pixel_size  has_watermark         image_hash  \\\n",
       "0           6          False  sr2e3cecf2e99aws3   \n",
       "1          14          False  sr26fa2adb2a6aws3   \n",
       "2          11          False  sr20b7ff421b0aws3   \n",
       "\n",
       "                                           image_url  \\\n",
       "0  https://art.pixilart.com/thumb/sr2e3cecf2e99aw...   \n",
       "1  https://art.pixilart.com/thumb/sr26fa2adb2a6aw...   \n",
       "2  https://art.pixilart.com/thumb/sr20b7ff421b0aw...   \n",
       "\n",
       "                                   full_image_url  likes_count  \\\n",
       "0  https://art.pixilart.com/sr2e3cecf2e99aws3.png            9   \n",
       "1  https://art.pixilart.com/sr26fa2adb2a6aws3.gif           49   \n",
       "2  https://art.pixilart.com/sr20b7ff421b0aws3.gif           39   \n",
       "\n",
       "   comments_count  width  height date_created content_warning warning  liked  \n",
       "0               0    200     250   05/25/2024            None   False  False  \n",
       "1               2     54     100   05/25/2024            None   False  False  \n",
       "2               0    128     128   05/25/2024            None   False  False  "
      ]
     },
     "execution_count": 11,
     "metadata": {},
     "output_type": "execute_result"
    }
   ],
   "source": [
    "train = ds['train']\n",
    "df = pd.DataFrame(train)\n",
    "df.head(3)"
   ]
  },
  {
   "cell_type": "code",
   "execution_count": 12,
   "metadata": {},
   "outputs": [
    {
     "data": {
      "image/png": "[encoded data removed]",
      "text/plain": [
       "<Figure size 1200x500 with 2 Axes>"
      ]
     },
     "metadata": {},
     "output_type": "display_data"
    }
   ],
   "source": [
    "import matplotlib.pyplot as plt\n",
    "\n",
    "# Assuming 'width' and 'height' are columns in your DataFrame 'df'\n",
    "plt.figure(figsize=(12, 5))\n",
    "\n",
    "plt.subplot(1, 2, 1)\n",
    "plt.hist(df['width'], bins=20, edgecolor='black')  # Adjust bins as needed\n",
    "plt.title('Distribution of Widths')\n",
    "plt.xlabel('Width')\n",
    "plt.ylabel('Frequency')\n",
    "\n",
    "plt.subplot(1, 2, 2)\n",
    "plt.hist(df['height'], bins=20, edgecolor='black')  # Adjust bins as needed\n",
    "plt.title('Distribution of Heights')\n",
    "plt.xlabel('Height')\n",
    "plt.ylabel('Frequency')\n",
    "\n",
    "plt.tight_layout()\n",
    "plt.show()"
   ]
  },
  {
   "cell_type": "code",
   "execution_count": 4,
   "metadata": {},
   "outputs": [
    {
     "data": {
      "image/png": "[encoded data removed]",
      "text/plain": [
       "<Figure size 800x600 with 1 Axes>"
      ]
     },
     "metadata": {},
     "output_type": "display_data"
    }
   ],
   "source": [
    "plt.figure(figsize=(8, 6))\n",
    "plt.hist(df['pixel_size'], bins=20, edgecolor='black')  # Adjust bins as needed\n",
    "plt.title('Distribution of Pixel Sizes')\n",
    "plt.xlabel('Pixel Size')\n",
    "plt.ylabel('Frequency')\n",
    "plt.show()"
   ]
  },
  {
   "cell_type": "code",
   "execution_count": 5,
   "metadata": {},
   "outputs": [],
   "source": [
    "import requests\n",
    "from PIL import Image\n",
    "from io import BytesIO\n",
    "\n",
    "def get_image_from_url(image_url):\n",
    "    try:\n",
    "        response = requests.get(image_url)\n",
    "        response.raise_for_status()  # Raise an exception for bad status codes\n",
    "        image = Image.open(BytesIO(response.content))\n",
    "        return image\n",
    "    except requests.exceptions.RequestException as e:\n",
    "        print(f\"Error downloading image: {e}\")\n",
    "        return None\n",
    "    except Exception as e:\n",
    "        print(f\"Error processing image: {e}\")\n",
    "        return None\n",
    "\n",
    "def scale_image(image: Image.Image, factor: float) -> Image.Image | None:\n",
    "    \"\"\"Scales a PIL Image down by a factor and returns a new PIL Image.\n",
    "\n",
    "    Args:\n",
    "        image: The PIL Image to scale.\n",
    "        factor: The scaling factor (e.g., 0.5 for half the size).\n",
    "\n",
    "    Returns:\n",
    "        A new PIL Image scaled down by the factor, or None if an error occurs.\n",
    "    \"\"\"\n",
    "    try:\n",
    "        width, height = image.size\n",
    "        new_width = int(width * factor)\n",
    "        new_height = int(height * factor)\n",
    "        scaled_image = image.resize((new_width, new_height), resample=Image.Resampling.NEAREST)\n",
    "        return scaled_image\n",
    "    except Exception as e:\n",
    "        print(f\"Error scaling image: {e}\")\n",
    "        return None"
   ]
  },
  {
   "cell_type": "code",
   "execution_count": 6,
   "metadata": {},
   "outputs": [],
   "source": [
    "SAMPLE_SIZE = 100\n",
    "df_sample = df.sample(SAMPLE_SIZE)"
   ]
  },
  {
   "cell_type": "code",
   "execution_count": 7,
   "metadata": {},
   "outputs": [
    {
     "name": "stderr",
     "output_type": "stream",
     "text": [
      "100it [00:44,  2.23it/s]"
     ]
    },
    {
     "name": "stdout",
     "output_type": "stream",
     "text": [
      "Data consistency check:\n",
      "n_data_consistency_good:  97\n",
      "n_data_consistency_bad:  3\n"
     ]
    },
    {
     "name": "stderr",
     "output_type": "stream",
     "text": [
      "\n"
     ]
    }
   ],
   "source": [
    "from tqdm import tqdm\n",
    "\n",
    "n_data_consistency_good = 0\n",
    "n_data_consistency_bad = 0\n",
    "for i, item in tqdm(df_sample.iterrows()):\n",
    "    img_url = item[\"full_image_url\"]\n",
    "    img = get_image_from_url(img_url)\n",
    "    scaled_width = item[\"width\"] * item[\"pixel_size\"]\n",
    "    scaled_height = item[\"height\"] * item[\"pixel_size\"]\n",
    "    if img.size[0] == scaled_width and img.size[1] == scaled_height:\n",
    "        n_data_consistency_good += 1\n",
    "    else:\n",
    "        n_data_consistency_bad += 1\n",
    "print(\"Data consistency check:\")\n",
    "print(\"n_data_consistency_good: \", n_data_consistency_good)\n",
    "print(\"n_data_consistency_bad: \", n_data_consistency_bad)\n"
   ]
  },
  {
   "cell_type": "code",
   "execution_count": 8,
   "metadata": {},
   "outputs": [
    {
     "name": "stderr",
     "output_type": "stream",
     "text": [
      "100it [00:09, 10.37it/s]"
     ]
    },
    {
     "name": "stdout",
     "output_type": "stream",
     "text": [
      "Image scaling check:\n",
      "n_scalability_good:  94\n",
      "n_scalability_bad:  6\n"
     ]
    },
    {
     "name": "stderr",
     "output_type": "stream",
     "text": [
      "\n"
     ]
    }
   ],
   "source": [
    "n_scalability_good = 0\n",
    "n_scalability_bad = 0\n",
    "for i, item in tqdm(df_sample.iterrows()):\n",
    "    img = get_image_from_url(item[\"full_image_url\"])\n",
    "    # scale image down by pixel size\n",
    "    scale_factor = item['pixel_size']\n",
    "    scaled_img = scale_image(img, 1 / scale_factor)\n",
    "    # scale back up by pixel size\n",
    "    scaled_back_up_img = scale_image(scaled_img, scale_factor)\n",
    "    # compare raw with rescaled back up for exact match, use checksums\n",
    "    if img.tobytes() == scaled_back_up_img.tobytes():\n",
    "        n_scalability_good += 1\n",
    "    else:\n",
    "        n_scalability_bad += 1\n",
    "print(\"Image scaling check:\")\n",
    "print(\"n_scalability_good: \", n_scalability_good)\n",
    "print(\"n_scalability_bad: \", n_scalability_bad)"
   ]
  },
  {
   "cell_type": "code",
   "execution_count": 9,
   "metadata": {},
   "outputs": [
    {
     "data": {
      "application/vnd.jupyter.widget-view+json": {
       "model_id": "db182a512c414d17a3de54c76d3d88ce",
       "version_major": 2,
       "version_minor": 0
      },
      "text/plain": [
       "interactive(children=(IntSlider(value=0, description='Image Index:'), Output()), _dom_classes=('widget-interac…"
      ]
     },
     "execution_count": 9,
     "metadata": {},
     "output_type": "execute_result"
    }
   ],
   "source": [
    "import ipywidgets as widgets\n",
    "from IPython.display import display\n",
    "\n",
    "def analyze_image(index):\n",
    "    # get image\n",
    "    img_url = df['full_image_url'][index]\n",
    "    img = get_image_from_url(img_url)\n",
    "    # display(img)\n",
    "\n",
    "    # scale image down by pixel size\n",
    "    scale_factor = df['pixel_size'][index]\n",
    "    scaled_img = scale_image(img, 1 / scale_factor)\n",
    "    display(scaled_img)\n",
    "\n",
    "    # scale back up by pixel size\n",
    "    scaled_back_up_img = scale_image(scaled_img, scale_factor)\n",
    "    # display(scaled_back_up_img)\n",
    "\n",
    "    # compare raw with rescaled back up for exact match, use checksums\n",
    "    if img.tobytes() == scaled_back_up_img.tobytes():\n",
    "        print(\"Exact match\")\n",
    "    else:\n",
    "        print(\"No match\")\n",
    "\n",
    "image_slider = widgets.IntSlider(\n",
    "    min=0,\n",
    "    # max=len(df) - 1,\n",
    "    max=100,\n",
    "    step=1,\n",
    "    description='Image Index:',\n",
    "    value=0\n",
    ")\n",
    "\n",
    "widgets.interactive(analyze_image, index=image_slider)\n"
   ]
  }
 ],
 "metadata": {
  "kernelspec": {
   "display_name": "pixelart-dataset-exploration-iWfMpuw5-py3.12",
   "language": "python",
   "name": "python3"
  },
  "language_info": {
   "codemirror_mode": {
    "name": "ipython",
    "version": 3
   },
   "file_extension": ".py",
   "mimetype": "text/x-python",
   "name": "python",
   "nbconvert_exporter": "python",
   "pygments_lexer": "ipython3",
   "version": "3.12.0"
  }
 },
 "nbformat": 4,
 "nbformat_minor": 2
}
