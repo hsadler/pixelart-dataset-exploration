{
 "cells": [
  {
   "cell_type": "code",
   "execution_count": 34,
   "metadata": {},
   "outputs": [
    {
     "data": {
      "text/plain": [
       "{'image': <PIL.PngImagePlugin.PngImageFile image mode=RGB size=65x56>,\n",
       " 'text': 'Once it takes aim at its foe, it makes a headlong charge. It is famous for its violent nature.'}"
      ]
     },
     "execution_count": 34,
     "metadata": {},
     "output_type": "execute_result"
    }
   ],
   "source": [
    "from datasets import load_dataset\n",
    "\n",
    "raw_train_ds = load_dataset(\"tkarr/sprite_caption_dataset\", split=\"train\").take(100)\n",
    "# raw_val_ds = load_dataset(\"tkarr/sprite_caption_dataset\", split=\"valid\")\n",
    "\n",
    "raw_train_ds[0]"
   ]
  },
  {
   "cell_type": "code",
   "execution_count": 35,
   "metadata": {},
   "outputs": [],
   "source": [
    "from PIL import Image\n",
    "\n",
    "def scale_image_by_factor(image: Image.Image, factor: float) -> Image.Image | None:\n",
    "    \"\"\"Scales a PIL Image down by a factor and returns a new PIL Image.\n",
    "\n",
    "    Args:\n",
    "        image: The PIL Image to scale.\n",
    "        factor: The scaling factor (e.g., 0.5 for half the size).\n",
    "\n",
    "    Returns:\n",
    "        A new PIL Image scaled down by the factor, or None if an error occurs.\n",
    "    \"\"\"\n",
    "    try:\n",
    "        width, height = image.size\n",
    "        new_width = int(width * factor)\n",
    "        new_height = int(height * factor)\n",
    "        scaled_image = image.resize((new_width, new_height), resample=Image.Resampling.NEAREST)\n",
    "        return scaled_image\n",
    "    except Exception as e:\n",
    "        print(f\"Error scaling image: {e}\")\n",
    "        return None\n",
    "    \n",
    "def scale_image_by_pixel_size(image: Image.Image, pixel_size: int) -> Image.Image | None:\n",
    "    original_width, original_height = image.size\n",
    "    if original_width <= original_height:\n",
    "        # scale by width\n",
    "        scale_factor = original_width / pixel_size\n",
    "        new_width = pixel_size\n",
    "        new_height = int(original_height / scale_factor)\n",
    "    else:\n",
    "        # scale by height\n",
    "        scale_factor = original_height / pixel_size\n",
    "        new_height = pixel_size\n",
    "        new_width = int(original_width / scale_factor)\n",
    "    scaled_image = image.resize((new_width, new_height), resample=Image.Resampling.NEAREST)\n",
    "    return scaled_image"
   ]
  },
  {
   "cell_type": "code",
   "execution_count": 36,
   "metadata": {},
   "outputs": [
    {
     "data": {
      "text/html": [
       "<div>\n",
       "<style scoped>\n",
       "    .dataframe tbody tr th:only-of-type {\n",
       "        vertical-align: middle;\n",
       "    }\n",
       "\n",
       "    .dataframe tbody tr th {\n",
       "        vertical-align: top;\n",
       "    }\n",
       "\n",
       "    .dataframe thead th {\n",
       "        text-align: right;\n",
       "    }\n",
       "</style>\n",
       "<table border=\"1\" class=\"dataframe\">\n",
       "  <thead>\n",
       "    <tr style=\"text-align: right;\">\n",
       "      <th></th>\n",
       "      <th>image</th>\n",
       "      <th>text</th>\n",
       "    </tr>\n",
       "  </thead>\n",
       "  <tbody>\n",
       "    <tr>\n",
       "      <th>0</th>\n",
       "      <td>&lt;PIL.PngImagePlugin.PngImageFile image mode=RG...</td>\n",
       "      <td>Once it takes aim at its foe, it makes a headl...</td>\n",
       "    </tr>\n",
       "    <tr>\n",
       "      <th>1</th>\n",
       "      <td>&lt;PIL.PngImagePlugin.PngImageFile image mode=RG...</td>\n",
       "      <td>Their tusks can shatter rocks. Territory battl...</td>\n",
       "    </tr>\n",
       "    <tr>\n",
       "      <th>2</th>\n",
       "      <td>&lt;PIL.PngImagePlugin.PngImageFile image mode=RG...</td>\n",
       "      <td>The spot patterns on its back grow larger or s...</td>\n",
       "    </tr>\n",
       "  </tbody>\n",
       "</table>\n",
       "</div>"
      ],
      "text/plain": [
       "                                               image  \\\n",
       "0  <PIL.PngImagePlugin.PngImageFile image mode=RG...   \n",
       "1  <PIL.PngImagePlugin.PngImageFile image mode=RG...   \n",
       "2  <PIL.PngImagePlugin.PngImageFile image mode=RG...   \n",
       "\n",
       "                                                text  \n",
       "0  Once it takes aim at its foe, it makes a headl...  \n",
       "1  Their tusks can shatter rocks. Territory battl...  \n",
       "2  The spot patterns on its back grow larger or s...  "
      ]
     },
     "execution_count": 36,
     "metadata": {},
     "output_type": "execute_result"
    }
   ],
   "source": [
    "from pandas import DataFrame\n",
    "\n",
    "train_df = DataFrame(raw_train_ds)\n",
    "train_df.head(3)"
   ]
  },
  {
   "cell_type": "code",
   "execution_count": 37,
   "metadata": {},
   "outputs": [
    {
     "data": {
      "image/jpeg": "[encoded data removed]",
      "image/png": "[encoded data removed]",
      "text/plain": [
       "<PIL.PngImagePlugin.PngImageFile image mode=RGB size=65x56>"
      ]
     },
     "metadata": {},
     "output_type": "display_data"
    }
   ],
   "source": [
    "from PIL import Image\n",
    "from IPython.display import display\n",
    "\n",
    "def get_image(ds, index):\n",
    "    return ds[index][\"image\"]\n",
    "\n",
    "first_image: Image.Image = get_image(raw_train_ds, 0)\n",
    "display(first_image)"
   ]
  },
  {
   "cell_type": "code",
   "execution_count": 38,
   "metadata": {},
   "outputs": [
    {
     "name": "stderr",
     "output_type": "stream",
     "text": [
      "/Users/harry.sadler/Library/Caches/pypoetry/virtualenvs/pixelart-dataset-exploration-iWfMpuw5-py3.12/lib/python3.12/site-packages/torchvision/transforms/v2/_deprecated.py:42: UserWarning: The transform `ToTensor()` is deprecated and will be removed in a future release. Instead, please use `v2.Compose([v2.ToImage(), v2.ToDtype(torch.float32, scale=True)])`.Output is equivalent up to float precision.\n",
      "  warnings.warn(\n"
     ]
    }
   ],
   "source": [
    "import torch\n",
    "from torchvision.transforms import v2\n",
    "\n",
    "SIZE = 64\n",
    "\n",
    "transform = v2.Compose([\n",
    "    v2.Lambda(lambda x: x.convert(\"RGB\")),\n",
    "    v2.Lambda(lambda x: scale_image_by_pixel_size(x, SIZE)),\n",
    "    v2.CenterCrop((SIZE, SIZE)),\n",
    "    v2.ToTensor(),\n",
    "])\n",
    "\n",
    "def preprocess(examples):\n",
    "    tensors = [transform(image) for image in examples[\"image\"]]\n",
    "    return {\"tensor\": torch.stack(tensors)}\n",
    "\n",
    "train_ds = raw_train_ds.map(preprocess, batched=True)\n",
    "train_ds.set_format(type=\"torch\", columns=[\"tensor\"])"
   ]
  },
  {
   "cell_type": "code",
   "execution_count": 39,
   "metadata": {},
   "outputs": [
    {
     "data": {
      "text/plain": [
       "torch.Size([3, 64, 64])"
      ]
     },
     "execution_count": 39,
     "metadata": {},
     "output_type": "execute_result"
    }
   ],
   "source": [
    "train_ds[0][\"tensor\"].shape"
   ]
  },
  {
   "cell_type": "code",
   "execution_count": 40,
   "metadata": {},
   "outputs": [],
   "source": [
    "from matplotlib import pyplot as plt\n",
    "\n",
    "def viz_compare_images(img1: Image.Image, img2: Image.Image):\n",
    "    _, axes = plt.subplots(1, 2, figsize=(12, 6))\n",
    "    a: plt.Axes = axes[0]\n",
    "    a.imshow(img1)\n",
    "    a.set_title('Image 1')\n",
    "    a.axis('off')\n",
    "    a: plt.Axes = axes[1]\n",
    "    a.imshow(img2)\n",
    "    a.set_title('Image 2')\n",
    "    a.axis('off')"
   ]
  },
  {
   "cell_type": "code",
   "execution_count": 41,
   "metadata": {},
   "outputs": [
    {
     "data": {
      "application/vnd.jupyter.widget-view+json": {
       "model_id": "a22ab9b3e7dc4a8e8384595b603ae7be",
       "version_major": 2,
       "version_minor": 0
      },
      "text/plain": [
       "interactive(children=(IntSlider(value=0, description='Image Index:', max=99), Output()), _dom_classes=('widget…"
      ]
     },
     "execution_count": 41,
     "metadata": {},
     "output_type": "execute_result"
    }
   ],
   "source": [
    "from torchvision.transforms import ToPILImage\n",
    "import ipywidgets as widgets\n",
    "\n",
    "def show_image(index):\n",
    "    t: torch.Tensor = train_ds[index][\"tensor\"]\n",
    "    pil_image = ToPILImage()(t)\n",
    "    viz_compare_images(get_image(raw_train_ds, index), pil_image)\n",
    "\n",
    "image_slider = widgets.IntSlider(\n",
    "    min=0,\n",
    "    max=len(raw_train_ds) - 1,\n",
    "    step=1,\n",
    "    description='Image Index:',\n",
    "    value=0\n",
    ")\n",
    "\n",
    "widgets.interactive(show_image, index=image_slider)\n"
   ]
  }
 ],
 "metadata": {
  "kernelspec": {
   "display_name": "pixelart-dataset-exploration-iWfMpuw5-py3.12",
   "language": "python",
   "name": "python3"
  },
  "language_info": {
   "codemirror_mode": {
    "name": "ipython",
    "version": 3
   },
   "file_extension": ".py",
   "mimetype": "text/x-python",
   "name": "python",
   "nbconvert_exporter": "python",
   "pygments_lexer": "ipython3",
   "version": "3.12.0"
  }
 },
 "nbformat": 4,
 "nbformat_minor": 2
}
