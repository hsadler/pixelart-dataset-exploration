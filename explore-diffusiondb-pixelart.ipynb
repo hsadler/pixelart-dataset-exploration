{
 "cells": [
  {
   "cell_type": "code",
   "execution_count": null,
   "metadata": {},
   "outputs": [],
   "source": [
    "from datasets import load_dataset\n",
    "import pandas as pd\n",
    "\n",
    "# https://huggingface.co/datasets/jainr3/diffusiondb-pixelart\n",
    "ds = load_dataset(\"jainr3/diffusiondb-pixelart\", \"2k_random_1k\")"
   ]
  },
  {
   "cell_type": "code",
   "execution_count": 4,
   "metadata": {},
   "outputs": [
    {
     "data": {
      "text/html": [
       "<div>\n",
       "<style scoped>\n",
       "    .dataframe tbody tr th:only-of-type {\n",
       "        vertical-align: middle;\n",
       "    }\n",
       "\n",
       "    .dataframe tbody tr th {\n",
       "        vertical-align: top;\n",
       "    }\n",
       "\n",
       "    .dataframe thead th {\n",
       "        text-align: right;\n",
       "    }\n",
       "</style>\n",
       "<table border=\"1\" class=\"dataframe\">\n",
       "  <thead>\n",
       "    <tr style=\"text-align: right;\">\n",
       "      <th></th>\n",
       "      <th>image</th>\n",
       "      <th>text</th>\n",
       "    </tr>\n",
       "  </thead>\n",
       "  <tbody>\n",
       "    <tr>\n",
       "      <th>0</th>\n",
       "      <td>&lt;PIL.PngImagePlugin.PngImageFile image mode=RG...</td>\n",
       "      <td>doom eternal, game concept art, veins and worm...</td>\n",
       "    </tr>\n",
       "    <tr>\n",
       "      <th>1</th>\n",
       "      <td>&lt;PIL.PngImagePlugin.PngImageFile image mode=RG...</td>\n",
       "      <td>a beautiful photorealistic painting of cemeter...</td>\n",
       "    </tr>\n",
       "    <tr>\n",
       "      <th>2</th>\n",
       "      <td>&lt;PIL.PngImagePlugin.PngImageFile image mode=RG...</td>\n",
       "      <td>doom eternal, evangelion, game concept art, ve...</td>\n",
       "    </tr>\n",
       "  </tbody>\n",
       "</table>\n",
       "</div>"
      ],
      "text/plain": [
       "                                               image  \\\n",
       "0  <PIL.PngImagePlugin.PngImageFile image mode=RG...   \n",
       "1  <PIL.PngImagePlugin.PngImageFile image mode=RG...   \n",
       "2  <PIL.PngImagePlugin.PngImageFile image mode=RG...   \n",
       "\n",
       "                                                text  \n",
       "0  doom eternal, game concept art, veins and worm...  \n",
       "1  a beautiful photorealistic painting of cemeter...  \n",
       "2  doom eternal, evangelion, game concept art, ve...  "
      ]
     },
     "execution_count": 4,
     "metadata": {},
     "output_type": "execute_result"
    }
   ],
   "source": [
    "train = ds['train']\n",
    "df = pd.DataFrame(train)\n",
    "df.head(3)"
   ]
  },
  {
   "cell_type": "code",
   "execution_count": 5,
   "metadata": {},
   "outputs": [
    {
     "name": "stdout",
     "output_type": "stream",
     "text": [
      "<class 'pandas.core.frame.DataFrame'>\n",
      "RangeIndex: 1000 entries, 0 to 999\n",
      "Data columns (total 2 columns):\n",
      " #   Column  Non-Null Count  Dtype \n",
      "---  ------  --------------  ----- \n",
      " 0   image   1000 non-null   object\n",
      " 1   text    1000 non-null   object\n",
      "dtypes: object(2)\n",
      "memory usage: 15.8+ KB\n",
      "None\n"
     ]
    }
   ],
   "source": [
    "# Check column names and data types\n",
    "print(df.info())"
   ]
  },
  {
   "cell_type": "code",
   "execution_count": 7,
   "metadata": {},
   "outputs": [],
   "source": [
    "from PIL import Image\n",
    "\n",
    "def scale_image(image: Image.Image, factor: float) -> Image.Image | None:\n",
    "    \"\"\"Scales a PIL Image down by a factor and returns a new PIL Image.\n",
    "\n",
    "    Args:\n",
    "        image: The PIL Image to scale.\n",
    "        factor: The scaling factor (e.g., 0.5 for half the size).\n",
    "\n",
    "    Returns:\n",
    "        A new PIL Image scaled down by the factor, or None if an error occurs.\n",
    "    \"\"\"\n",
    "    try:\n",
    "        width, height = image.size\n",
    "        new_width = int(width * factor)\n",
    "        new_height = int(height * factor)\n",
    "        scaled_image = image.resize((new_width, new_height), resample=Image.Resampling.NEAREST)\n",
    "        return scaled_image\n",
    "    except Exception as e:\n",
    "        print(f\"Error scaling image: {e}\")\n",
    "        return None"
   ]
  },
  {
   "cell_type": "code",
   "execution_count": 12,
   "metadata": {},
   "outputs": [
    {
     "data": {
      "application/vnd.jupyter.widget-view+json": {
       "model_id": "85e4c226b572451397f4f48d11edba67",
       "version_major": 2,
       "version_minor": 0
      },
      "text/plain": [
       "interactive(children=(IntSlider(value=0, description='Image Index:', max=999), Output()), _dom_classes=('widge…"
      ]
     },
     "execution_count": 12,
     "metadata": {},
     "output_type": "execute_result"
    }
   ],
   "source": [
    "from IPython.display import display\n",
    "import ipywidgets as widgets\n",
    "\n",
    "def show_image(index):\n",
    "    image = df['image'][index]\n",
    "    # display(image)\n",
    "    scale = 1/3\n",
    "    scaled_img = scale_image(image, scale)\n",
    "    display(scaled_img)\n",
    "    print(df['text'][index])\n",
    "\n",
    "image_slider = widgets.IntSlider(\n",
    "    min=0,\n",
    "    max=len(df) - 1,\n",
    "    step=1,\n",
    "    description='Image Index:',\n",
    "    value=0\n",
    ")\n",
    "\n",
    "widgets.interactive(show_image, index=image_slider)"
   ]
  },
  {
   "cell_type": "code",
   "execution_count": 31,
   "metadata": {},
   "outputs": [
    {
     "data": {
      "application/vnd.jupyter.widget-view+json": {
       "model_id": "e4799efcd2074d768d17582d0700af46",
       "version_major": 2,
       "version_minor": 0
      },
      "text/plain": [
       "interactive(children=(IntSlider(value=1, description='Scale:', min=1), Output()), _dom_classes=('widget-intera…"
      ]
     },
     "execution_count": 31,
     "metadata": {},
     "output_type": "execute_result"
    }
   ],
   "source": [
    "from tqdm import tqdm\n",
    "\n",
    "def analyze_image_quality(scale: int) -> bool:\n",
    "    df_sample = df.sample(40)\n",
    "    n_good = 0\n",
    "    n_bad = 0\n",
    "    for _, item in tqdm(df_sample.iterrows()):\n",
    "        image: Image.Image = item['image']\n",
    "        scaled_down_image = scale_image(image, 1/scale)\n",
    "        scaled_back_up_image = scale_image(scaled_down_image, scale)\n",
    "        scaled_down_image = scale_image(image, 1/scale)\n",
    "        scaled_back_up_image_2 = scale_image(scaled_down_image, scale)\n",
    "        if scaled_back_up_image.tobytes() == scaled_back_up_image_2.tobytes():\n",
    "            n_good += 1\n",
    "        else:\n",
    "            n_bad += 1\n",
    "    print(f\"n_good: {n_good}\")\n",
    "    print(f\"n_bad: {n_bad}\")\n",
    "\n",
    "image_slider = widgets.IntSlider(\n",
    "    min=1,\n",
    "    max=100,\n",
    "    step=1,\n",
    "    description='Scale:',\n",
    "    value=1\n",
    ")\n",
    "\n",
    "widgets.interactive(analyze_image_quality, scale=image_slider)"
   ]
  },
  {
   "cell_type": "code",
   "execution_count": null,
   "metadata": {},
   "outputs": [],
   "source": []
  }
 ],
 "metadata": {
  "kernelspec": {
   "display_name": "pixelart-dataset-exploration-iWfMpuw5-py3.12",
   "language": "python",
   "name": "python3"
  },
  "language_info": {
   "codemirror_mode": {
    "name": "ipython",
    "version": 3
   },
   "file_extension": ".py",
   "mimetype": "text/x-python",
   "name": "python",
   "nbconvert_exporter": "python",
   "pygments_lexer": "ipython3",
   "version": "3.12.0"
  }
 },
 "nbformat": 4,
 "nbformat_minor": 2
}
