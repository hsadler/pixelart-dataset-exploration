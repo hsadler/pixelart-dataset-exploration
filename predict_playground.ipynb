{
 "cells": [
  {
   "cell_type": "code",
   "execution_count": 1,
   "metadata": {},
   "outputs": [
    {
     "name": "stderr",
     "output_type": "stream",
     "text": [
      "/Users/harry.sadler/Library/Caches/pypoetry/virtualenvs/pixelart-dataset-exploration-iWfMpuw5-py3.12/lib/python3.12/site-packages/torchvision/transforms/v2/_deprecated.py:42: UserWarning: The transform `ToTensor()` is deprecated and will be removed in a future release. Instead, please use `v2.Compose([v2.ToImage(), v2.ToDtype(torch.float32, scale=True)])`.Output is equivalent up to float precision.\n",
      "  warnings.warn(\n"
     ]
    }
   ],
   "source": [
    "import torch\n",
    "from torchvision.transforms import ToPILImage\n",
    "from PIL import Image\n",
    "from IPython.display import display\n",
    "\n",
    "import importlib\n",
    "import cli\n",
    "importlib.reload(cli)  # Reload the module to get the latest version\n",
    "from cli import predict, _load_and_preprocess_dataset\n",
    "\n",
    "image_pixel_size = 32\n",
    "\n",
    "ds = _load_and_preprocess_dataset(\n",
    "    path=\"tkarr/sprite_caption_dataset\",\n",
    "    split=\"valid\",\n",
    "    image_pixel_size=image_pixel_size,\n",
    ")"
   ]
  },
  {
   "cell_type": "code",
   "execution_count": 2,
   "metadata": {},
   "outputs": [],
   "source": [
    "from matplotlib import pyplot as plt\n",
    "\n",
    "def predict_from_dataset_index(\n",
    "    model_path: str = \"best_model.pth\",\n",
    "    ds: torch.utils.data.Dataset = None,\n",
    "    ds_index: int = 0,\n",
    "    image_pixel_size: int = 64,\n",
    ") -> torch.Tensor:\n",
    "    input_tensor: torch.Tensor = ds[ds_index][\"tensor\"]\n",
    "    output_tensor: torch.Tensor = predict(model_path, input_tensor, image_pixel_size)\n",
    "    return output_tensor\n",
    "\n",
    "def viz_compare_images(img1: Image.Image, img2: Image.Image):\n",
    "    _, axes = plt.subplots(1, 2, figsize=(12, 6))\n",
    "    axes[0].imshow(img1)\n",
    "    axes[0].set_title('Image 1')\n",
    "    axes[0].axis('off')\n",
    "    axes[1].imshow(img2)\n",
    "    axes[1].set_title('Image 2')\n",
    "    axes[1].axis('off')\n",
    "    plt.tight_layout()\n",
    "    plt.show()"
   ]
  },
  {
   "cell_type": "code",
   "execution_count": 3,
   "metadata": {},
   "outputs": [
    {
     "data": {
      "image/jpeg": "[encoded data removed]",
      "image/png": "[encoded data removed]",
      "text/plain": [
       "<PIL.Image.Image image mode=RGB size=32x32>"
      ]
     },
     "metadata": {},
     "output_type": "display_data"
    }
   ],
   "source": [
    "output_tensor = predict_from_dataset_index(\n",
    "    model_path=\"best_model.pth\",\n",
    "    ds=ds,\n",
    "    ds_index=0,\n",
    "    image_pixel_size=image_pixel_size,\n",
    ")\n",
    "output_image: Image.Image = ToPILImage()(output_tensor)\n",
    "display(output_image)"
   ]
  },
  {
   "cell_type": "code",
   "execution_count": 5,
   "metadata": {},
   "outputs": [
    {
     "data": {
      "application/vnd.jupyter.widget-view+json": {
       "model_id": "e2ab1609baba4bfd90fdf21d4cf98671",
       "version_major": 2,
       "version_minor": 0
      },
      "text/plain": [
       "interactive(children=(IntSlider(value=0, description='Image index:'), Output()), _dom_classes=('widget-interac…"
      ]
     },
     "execution_count": 5,
     "metadata": {},
     "output_type": "execute_result"
    }
   ],
   "source": [
    "from ipywidgets import widgets\n",
    "\n",
    "def pred_and_display(i: int):\n",
    "    output_tensor = predict_from_dataset_index(\n",
    "        model_path=\"best_model.pth\",\n",
    "        ds=ds,\n",
    "        ds_index=i,\n",
    "        image_pixel_size=image_pixel_size,\n",
    "    )\n",
    "    input_image: Image.Image = ToPILImage()(ds[i][\"tensor\"])\n",
    "    output_image: Image.Image = ToPILImage()(output_tensor)\n",
    "    viz_compare_images(input_image, output_image)\n",
    "\n",
    "image_slider = widgets.IntSlider(\n",
    "    min=0,\n",
    "    max=100,\n",
    "    step=1,\n",
    "    description='Image index:',\n",
    "    value=0\n",
    ")\n",
    "\n",
    "widgets.interactive(pred_and_display, i=image_slider)"
   ]
  },
  {
   "cell_type": "code",
   "execution_count": null,
   "metadata": {},
   "outputs": [],
   "source": []
  }
 ],
 "metadata": {
  "kernelspec": {
   "display_name": "pixelart-dataset-exploration-iWfMpuw5-py3.12",
   "language": "python",
   "name": "python3"
  },
  "language_info": {
   "codemirror_mode": {
    "name": "ipython",
    "version": 3
   },
   "file_extension": ".py",
   "mimetype": "text/x-python",
   "name": "python",
   "nbconvert_exporter": "python",
   "pygments_lexer": "ipython3",
   "version": "3.12.0"
  }
 },
 "nbformat": 4,
 "nbformat_minor": 2
}
