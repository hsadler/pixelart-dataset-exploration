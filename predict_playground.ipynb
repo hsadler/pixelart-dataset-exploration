{
 "cells": [
  {
   "cell_type": "code",
   "execution_count": 5,
   "metadata": {},
   "outputs": [],
   "source": [
    "import importlib\n",
    "import cli\n",
    "importlib.reload(cli)\n",
    "from cli import _load_and_preprocess_dataset\n",
    "\n",
    "image_pixel_size = 64\n",
    "\n",
    "ds_train = _load_and_preprocess_dataset(\n",
    "    path=\"tkarr/sprite_caption_dataset\",\n",
    "    split=\"train\",\n",
    "    image_pixel_size=image_pixel_size,\n",
    ")\n",
    "ds_valid = _load_and_preprocess_dataset(\n",
    "    path=\"tkarr/sprite_caption_dataset\",\n",
    "    split=\"valid\",\n",
    "    image_pixel_size=image_pixel_size,\n",
    ")"
   ]
  },
  {
   "cell_type": "code",
   "execution_count": 6,
   "metadata": {},
   "outputs": [
    {
     "data": {
      "application/vnd.jupyter.widget-view+json": {
       "model_id": "97e1ec3898f44be1b4e5fbabc99cff97",
       "version_major": 2,
       "version_minor": 0
      },
      "text/plain": [
       "interactive(children=(IntSlider(value=0, description='Image index:', max=712), Output()), _dom_classes=('widge…"
      ]
     },
     "execution_count": 6,
     "metadata": {},
     "output_type": "execute_result"
    }
   ],
   "source": [
    "from PIL import Image\n",
    "from matplotlib import pyplot as plt\n",
    "from ipywidgets import widgets\n",
    "\n",
    "import vae\n",
    "importlib.reload(vae)\n",
    "from vae import predict_from_dataset_index, ModelType\n",
    "\n",
    "import utils\n",
    "importlib.reload(utils)\n",
    "from utils import tensor_to_pil_image\n",
    "\n",
    "model_type = ModelType.CONV\n",
    "\n",
    "def viz_compare_images(img1: Image.Image, img2: Image.Image):\n",
    "    _, axes = plt.subplots(1, 2, figsize=(12, 6))\n",
    "    axes[0].imshow(img1)\n",
    "    axes[0].set_title('Image 1')\n",
    "    axes[0].axis('off')\n",
    "    axes[1].imshow(img2)\n",
    "    axes[1].set_title('Image 2')\n",
    "    axes[1].axis('off')\n",
    "    plt.tight_layout()\n",
    "    plt.show()\n",
    "\n",
    "ds = ds_valid\n",
    "def pred_and_display(i: int):\n",
    "    output_tensor = predict_from_dataset_index(\n",
    "        model_type=model_type,\n",
    "        model_path=\"best_model.pth\",\n",
    "        ds=ds,\n",
    "        ds_index=i,\n",
    "        image_pixel_size=image_pixel_size,\n",
    "        device=\"mps\",\n",
    "    )\n",
    "    input_image: Image.Image = tensor_to_pil_image(ds[i][\"tensor\"])\n",
    "    output_image: Image.Image = tensor_to_pil_image(output_tensor)\n",
    "    viz_compare_images(input_image, output_image)\n",
    "\n",
    "image_slider = widgets.IntSlider(\n",
    "    min=0,\n",
    "    max=len(ds) - 1,\n",
    "    step=1,\n",
    "    description='Image index:',\n",
    "    value=0\n",
    ")\n",
    "\n",
    "widgets.interactive(pred_and_display, i=image_slider)"
   ]
  }
 ],
 "metadata": {
  "kernelspec": {
   "display_name": "pixelart-dataset-exploration-iWfMpuw5-py3.12",
   "language": "python",
   "name": "python3"
  },
  "language_info": {
   "codemirror_mode": {
    "name": "ipython",
    "version": 3
   },
   "file_extension": ".py",
   "mimetype": "text/x-python",
   "name": "python",
   "nbconvert_exporter": "python",
   "pygments_lexer": "ipython3",
   "version": "3.12.0"
  }
 },
 "nbformat": 4,
 "nbformat_minor": 2
}
