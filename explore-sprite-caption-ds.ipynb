{
 "cells": [
  {
   "cell_type": "code",
   "execution_count": 1,
   "metadata": {},
   "outputs": [
    {
     "data": {
      "text/html": [
       "<div>\n",
       "<style scoped>\n",
       "    .dataframe tbody tr th:only-of-type {\n",
       "        vertical-align: middle;\n",
       "    }\n",
       "\n",
       "    .dataframe tbody tr th {\n",
       "        vertical-align: top;\n",
       "    }\n",
       "\n",
       "    .dataframe thead th {\n",
       "        text-align: right;\n",
       "    }\n",
       "</style>\n",
       "<table border=\"1\" class=\"dataframe\">\n",
       "  <thead>\n",
       "    <tr style=\"text-align: right;\">\n",
       "      <th></th>\n",
       "      <th>image</th>\n",
       "      <th>text</th>\n",
       "    </tr>\n",
       "  </thead>\n",
       "  <tbody>\n",
       "    <tr>\n",
       "      <th>0</th>\n",
       "      <td>{'bytes': b'\\x89PNG\\r\\n\\x1a\\n\\x00\\x00\\x00\\rIHD...</td>\n",
       "      <td>Once it takes aim at its foe, it makes a headl...</td>\n",
       "    </tr>\n",
       "    <tr>\n",
       "      <th>1</th>\n",
       "      <td>{'bytes': b'\\x89PNG\\r\\n\\x1a\\n\\x00\\x00\\x00\\rIHD...</td>\n",
       "      <td>Their tusks can shatter rocks. Territory battl...</td>\n",
       "    </tr>\n",
       "    <tr>\n",
       "      <th>2</th>\n",
       "      <td>{'bytes': b'\\x89PNG\\r\\n\\x1a\\n\\x00\\x00\\x00\\rIHD...</td>\n",
       "      <td>The spot patterns on its back grow larger or s...</td>\n",
       "    </tr>\n",
       "  </tbody>\n",
       "</table>\n",
       "</div>"
      ],
      "text/plain": [
       "                                               image  \\\n",
       "0  {'bytes': b'\\x89PNG\\r\\n\\x1a\\n\\x00\\x00\\x00\\rIHD...   \n",
       "1  {'bytes': b'\\x89PNG\\r\\n\\x1a\\n\\x00\\x00\\x00\\rIHD...   \n",
       "2  {'bytes': b'\\x89PNG\\r\\n\\x1a\\n\\x00\\x00\\x00\\rIHD...   \n",
       "\n",
       "                                                text  \n",
       "0  Once it takes aim at its foe, it makes a headl...  \n",
       "1  Their tusks can shatter rocks. Territory battl...  \n",
       "2  The spot patterns on its back grow larger or s...  "
      ]
     },
     "execution_count": 1,
     "metadata": {},
     "output_type": "execute_result"
    }
   ],
   "source": [
    "import pandas as pd\n",
    "\n",
    "splits = {\n",
    "    'train': 'data/train-00000-of-00001-fcc065bf70ee2231.parquet', \n",
    "    'test': 'data/test-00000-of-00001-f1c4bff30406d0d2.parquet', \n",
    "    'valid': 'data/valid-00000-of-00001-b738a4243b72ceb5.parquet'\n",
    "}\n",
    "df = pd.read_parquet(\"hf://datasets/tkarr/sprite_caption_dataset/\" + splits[\"train\"])\n",
    "df.head(3)"
   ]
  },
  {
   "cell_type": "code",
   "execution_count": 6,
   "metadata": {},
   "outputs": [
    {
     "data": {
      "image/jpeg": "[encoded data removed]",
      "image/png": "[encoded data removed]",
      "text/plain": [
       "<PIL.PngImagePlugin.PngImageFile image mode=RGB size=65x56>"
      ]
     },
     "metadata": {},
     "output_type": "display_data"
    }
   ],
   "source": [
    "from PIL import Image\n",
    "from typing import Any\n",
    "import io\n",
    "from IPython.display import display\n",
    "\n",
    "# load the first image and display\n",
    "image_data: dict[str, Any] = df['image'][0]\n",
    "image_bytes: bytearray = image_data['bytes']\n",
    "img = Image.open(io.BytesIO(image_bytes))\n",
    "display(img)"
   ]
  },
  {
   "cell_type": "code",
   "execution_count": 3,
   "metadata": {},
   "outputs": [],
   "source": [
    "from matplotlib import pyplot as plt\n",
    "\n",
    "def get_image_from_dataset(dataset: pd.DataFrame, index: int) -> Image.Image:\n",
    "    \"\"\"\n",
    "    Get a PIL image from a dataset at the specified index.\n",
    "    \n",
    "    Args:\n",
    "        dataset: DataFrame containing image data\n",
    "        index: Index of the image to retrieve\n",
    "        \n",
    "    Returns:\n",
    "        PIL Image object\n",
    "    \"\"\"\n",
    "    image_data = dataset['image'][index]\n",
    "    image_bytes = image_data['bytes']\n",
    "    return Image.open(io.BytesIO(image_bytes))\n",
    "\n",
    "def viz_compare_images(img1: Image.Image, img2: Image.Image):\n",
    "    _, axes = plt.subplots(1, 2, figsize=(12, 6))\n",
    "    axes[0].imshow(img1)\n",
    "    axes[0].set_title('Image 1')\n",
    "    axes[0].axis('off')\n",
    "    axes[1].imshow(img2)\n",
    "    axes[1].set_title('Image 2')\n",
    "    axes[1].axis('off')\n",
    "    plt.tight_layout()\n",
    "    plt.show()\n",
    "\n",
    "def scale_image(image: Image.Image, factor: float) -> Image.Image | None:\n",
    "    \"\"\"Scales a PIL Image down by a factor and returns a new PIL Image.\n",
    "\n",
    "    Args:\n",
    "        image: The PIL Image to scale.\n",
    "        factor: The scaling factor (e.g., 0.5 for half the size).\n",
    "\n",
    "    Returns:\n",
    "        A new PIL Image scaled down by the factor, or None if an error occurs.\n",
    "    \"\"\"\n",
    "    try:\n",
    "        width, height = image.size\n",
    "        new_width = int(width * factor)\n",
    "        new_height = int(height * factor)\n",
    "        scaled_image = image.resize((new_width, new_height), resample=Image.Resampling.NEAREST)\n",
    "        return scaled_image\n",
    "    except Exception as e:\n",
    "        print(f\"Error scaling image: {e}\")\n",
    "        return None"
   ]
  },
  {
   "cell_type": "code",
   "execution_count": 4,
   "metadata": {},
   "outputs": [
    {
     "data": {
      "image/png": "[encoded data removed]",
      "text/plain": [
       "<Figure size 1000x500 with 1 Axes>"
      ]
     },
     "metadata": {},
     "output_type": "display_data"
    }
   ],
   "source": [
    "def plot_distribution_of_widths_and_heights(df):\n",
    "    widths = []\n",
    "    heights = []\n",
    "    for i, _ in df.iterrows():\n",
    "        image = get_image_from_dataset(df, i)\n",
    "        widths.append(image.width)\n",
    "        heights.append(image.height)\n",
    "    plt.figure(figsize=(10, 5))\n",
    "    plt.hist(widths, bins=30, alpha=0.5, label='Widths')\n",
    "    plt.hist(heights, bins=30, alpha=0.5, label='Heights')\n",
    "    plt.xlabel('Size')\n",
    "    plt.ylabel('Frequency')\n",
    "    plt.legend()\n",
    "    plt.show()\n",
    "\n",
    "plot_distribution_of_widths_and_heights(df)\n"
   ]
  },
  {
   "cell_type": "code",
   "execution_count": 5,
   "metadata": {},
   "outputs": [
    {
     "data": {
      "application/vnd.jupyter.widget-view+json": {
       "model_id": "1c038e84fbc34b7fa3fb82d4dc1ee96d",
       "version_major": 2,
       "version_minor": 0
      },
      "text/plain": [
       "interactive(children=(IntSlider(value=1, description='Scale:', min=1), Output()), _dom_classes=('widget-intera…"
      ]
     },
     "execution_count": 5,
     "metadata": {},
     "output_type": "execute_result"
    }
   ],
   "source": [
    "from tqdm import tqdm\n",
    "import ipywidgets as widgets\n",
    "\n",
    "df_sample = df.sample(40)\n",
    "\n",
    "def analyze_image_quality(scale: int) -> bool:\n",
    "    n_good = 0\n",
    "    n_bad = 0\n",
    "    image_shown = False\n",
    "    for i, _ in tqdm(df_sample.iterrows()):\n",
    "        image = get_image_from_dataset(df_sample, i)\n",
    "        scaled_down_image = scale_image(image, 1/scale)\n",
    "        scaled_back_up_image = scale_image(scaled_down_image, scale)\n",
    "        if image.tobytes() == scaled_back_up_image.tobytes():\n",
    "            n_good += 1\n",
    "        else:\n",
    "            n_bad += 1\n",
    "        if not image_shown:\n",
    "            viz_compare_images(image, scaled_back_up_image)\n",
    "            image_shown = True\n",
    "    print(f\"n_good: {n_good}\")\n",
    "    print(f\"n_bad: {n_bad}\")\n",
    "\n",
    "image_slider = widgets.IntSlider(\n",
    "    min=1,\n",
    "    max=100,\n",
    "    step=1,\n",
    "    description='Scale:',\n",
    "    value=1\n",
    ")\n",
    "\n",
    "widgets.interactive(analyze_image_quality, scale=image_slider)"
   ]
  },
  {
   "cell_type": "markdown",
   "metadata": {},
   "source": [
    "## Takeaways\n",
    "- The images look to be pokemon sprite and all have black backgrounds, so would be interesting to use for training a pokemon pixelart model with the ability to do transparent backgrounds.\n",
    "- All are already 1x1 pixels, so no need to downscale.\n",
    "- Most images are within 30x30 to 80x80 width and height.\n",
    "- The dataset is split into train, test and validation sets, and is pretty big."
   ]
  }
 ],
 "metadata": {
  "kernelspec": {
   "display_name": "pixelart-dataset-exploration-iWfMpuw5-py3.12",
   "language": "python",
   "name": "python3"
  },
  "language_info": {
   "codemirror_mode": {
    "name": "ipython",
    "version": 3
   },
   "file_extension": ".py",
   "mimetype": "text/x-python",
   "name": "python",
   "nbconvert_exporter": "python",
   "pygments_lexer": "ipython3",
   "version": "3.12.0"
  }
 },
 "nbformat": 4,
 "nbformat_minor": 2
}
